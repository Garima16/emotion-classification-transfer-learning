{
 "cells": [
  {
   "cell_type": "markdown",
   "metadata": {},
   "source": [
    "## IMPORTS AND LOADINGS"
   ]
  },
  {
   "cell_type": "code",
   "execution_count": 1,
   "metadata": {},
   "outputs": [],
   "source": [
    "import os\n",
    "import re\n",
    "import torch\n",
    "import random\n",
    "import fasttext\n",
    "import numpy as np\n",
    "from glob import glob\n",
    "from torchtext import data, datasets"
   ]
  },
  {
   "cell_type": "code",
   "execution_count": 2,
   "metadata": {},
   "outputs": [
    {
     "data": {
      "text/plain": [
       "'cuda'"
      ]
     },
     "execution_count": 2,
     "metadata": {},
     "output_type": "execute_result"
    }
   ],
   "source": [
    "SEED = 1234\n",
    "\n",
    "random.seed(SEED)\n",
    "np.random.seed(SEED)\n",
    "torch.manual_seed(SEED)\n",
    "torch.backends.cudnn.deterministic = True\n",
    "\n",
    "device = 'cuda' if torch.cuda.is_available() else 'cpu'\n",
    "device"
   ]
  },
  {
   "cell_type": "code",
   "execution_count": 3,
   "metadata": {},
   "outputs": [],
   "source": [
    "fasttext_file_path = \"../../Dataset/wiki.en/wiki.en.bin\"\n",
    "\n",
    "dataset_folder = '../../Dataset/crosslingual_transfer/EI-oc/'\n",
    "train_set = glob(dataset_folder + 'training/*.txt') \n",
    "development_set = glob(dataset_folder + 'development/*.txt') \n",
    "test_set = glob(dataset_folder + 'test/*.txt') "
   ]
  },
  {
   "cell_type": "code",
   "execution_count": 4,
   "metadata": {},
   "outputs": [],
   "source": [
    "class_labels = {'anger':0, 'fear':1, 'joy':2, 'sadness':3}"
   ]
  },
  {
   "cell_type": "code",
   "execution_count": 5,
   "metadata": {},
   "outputs": [],
   "source": [
    "def get_data(files): #list of files\n",
    "    x_data, y_data = [], []\n",
    "    for file in files:\n",
    "        with open(file) as file:\n",
    "            for line in file:\n",
    "                line = line.strip().split('\\t')\n",
    "                tweet, label = line[1], line[2]\n",
    "                x_data.append(tweet)\n",
    "                try:\n",
    "                    y_data.append(class_labels[label])\n",
    "                except KeyError:\n",
    "                    continue\n",
    "    return x_data[1:], y_data[1:]"
   ]
  },
  {
   "cell_type": "code",
   "execution_count": 6,
   "metadata": {},
   "outputs": [
    {
     "name": "stdout",
     "output_type": "stream",
     "text": [
      "samples in trg set :  7105\n",
      "samples in dev set :  1467\n",
      "samples in test set :  4071\n"
     ]
    }
   ],
   "source": [
    "# all are lists \n",
    "x_train, y_train = get_data(train_set)\n",
    "x_dev, y_dev = get_data(development_set)\n",
    "x_test, y_test = get_data(test_set)\n",
    "trg_samples = len(x_train)\n",
    "dev_samples = len(x_dev)\n",
    "test_samples = len(x_test)\n",
    "print(\"samples in trg set : \", trg_samples)\n",
    "print(\"samples in dev set : \", dev_samples)\n",
    "print(\"samples in test set : \", test_samples)"
   ]
  },
  {
   "cell_type": "markdown",
   "metadata": {},
   "source": [
    "## DATA PRE-PROCESSING"
   ]
  },
  {
   "cell_type": "code",
   "execution_count": 8,
   "metadata": {},
   "outputs": [
    {
     "name": "stderr",
     "output_type": "stream",
     "text": [
      "\n"
     ]
    }
   ],
   "source": [
    "ft = fasttext.load_model(fasttext_file_path)"
   ]
  },
  {
   "cell_type": "code",
   "execution_count": 22,
   "metadata": {},
   "outputs": [
    {
     "data": {
      "text/plain": [
       "300"
      ]
     },
     "execution_count": 22,
     "metadata": {},
     "output_type": "execute_result"
    }
   ],
   "source": [
    "embedding_dims = ft.get_dimension()\n",
    "embedding_dims"
   ]
  },
  {
   "cell_type": "code",
   "execution_count": 72,
   "metadata": {},
   "outputs": [],
   "source": [
    "def twitter_tokenizer(textline):\n",
    "    textLine = re.sub(r'http\\S+', 'URL', textline)\n",
    "    textline = re.sub('@[\\w_]+', '', textline)\n",
    "    textline = re.sub('\\|LBR\\|', '', textline)\n",
    "    textline = re.sub('#', '', textline)\n",
    "    textline = re.sub('\\.\\.\\.+', '...', textline)\n",
    "    textline = re.sub('!!+', '!!', textline)\n",
    "    textline = re.sub('\\?\\?+', '??', textline)\n",
    "    words = re.compile('[\\U00010000-\\U0010ffff]|[\\w-]+|[^ \\w\\U00010000-\\U0010ffff]+', re.UNICODE).findall(textline.strip())\n",
    "    words = [w.strip() for w in words if w.strip() != '']\n",
    "    return(words)"
   ]
  },
  {
   "cell_type": "code",
   "execution_count": 75,
   "metadata": {},
   "outputs": [
    {
     "name": "stdout",
     "output_type": "stream",
     "text": [
      "@City_tv  is like the big bully in class ruining everyone's lunch but instead of taking our lunch money they took away family feud #bully\n"
     ]
    },
    {
     "data": {
      "text/plain": [
       "['is',\n",
       " 'like',\n",
       " 'the',\n",
       " 'big',\n",
       " 'bully',\n",
       " 'in',\n",
       " 'class',\n",
       " 'ruining',\n",
       " 'everyone',\n",
       " \"'\",\n",
       " 's',\n",
       " 'lunch',\n",
       " 'but',\n",
       " 'instead',\n",
       " 'of',\n",
       " 'taking',\n",
       " 'our',\n",
       " 'lunch',\n",
       " 'money',\n",
       " 'they',\n",
       " 'took',\n",
       " 'away',\n",
       " 'family',\n",
       " 'feud',\n",
       " 'bully']"
      ]
     },
     "execution_count": 75,
     "metadata": {},
     "output_type": "execute_result"
    }
   ],
   "source": [
    "print(x_train[8])\n",
    "twitter_tokenizer(x_train[8])"
   ]
  },
  {
   "cell_type": "markdown",
   "metadata": {},
   "source": [
    "## MODEL TRAINING"
   ]
  },
  {
   "cell_type": "code",
   "execution_count": null,
   "metadata": {},
   "outputs": [],
   "source": []
  }
 ],
 "metadata": {
  "kernelspec": {
   "display_name": "Python 3",
   "language": "python",
   "name": "python3"
  },
  "language_info": {
   "codemirror_mode": {
    "name": "ipython",
    "version": 3
   },
   "file_extension": ".py",
   "mimetype": "text/x-python",
   "name": "python",
   "nbconvert_exporter": "python",
   "pygments_lexer": "ipython3",
   "version": "3.7.4"
  }
 },
 "nbformat": 4,
 "nbformat_minor": 2
}
